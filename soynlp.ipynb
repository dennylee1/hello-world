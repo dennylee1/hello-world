{
  "nbformat": 4,
  "nbformat_minor": 0,
  "metadata": {
    "colab": {
      "name": "Untitled4.ipynb",
      "provenance": [],
      "authorship_tag": "ABX9TyNRT+ys0M/YtQzK/fvS+Edy",
      "include_colab_link": true
    },
    "kernelspec": {
      "name": "python3",
      "display_name": "Python 3"
    },
    "language_info": {
      "name": "python"
    }
  },
  "cells": [
    {
      "cell_type": "markdown",
      "metadata": {
        "id": "view-in-github",
        "colab_type": "text"
      },
      "source": [
        "<a href=\"https://colab.research.google.com/github/dennylee1/hello-world/blob/master/soynlp.ipynb\" target=\"_parent\"><img src=\"https://colab.research.google.com/assets/colab-badge.svg\" alt=\"Open In Colab\"/></a>"
      ]
    },
    {
      "cell_type": "code",
      "metadata": {
        "colab": {
          "base_uri": "https://localhost:8080/"
        },
        "id": "CVIvpacsVpmn",
        "outputId": "63af4b23-be93-4b99-e88e-a0630bab96a9"
      },
      "source": [
        "pip install soynlp"
      ],
      "execution_count": 1,
      "outputs": [
        {
          "output_type": "stream",
          "text": [
            "Collecting soynlp\n",
            "\u001b[?25l  Downloading https://files.pythonhosted.org/packages/7e/50/6913dc52a86a6b189419e59f9eef1b8d599cffb6f44f7bb91854165fc603/soynlp-0.0.493-py3-none-any.whl (416kB)\n",
            "\r\u001b[K     |▉                               | 10kB 16.0MB/s eta 0:00:01\r\u001b[K     |█▋                              | 20kB 20.3MB/s eta 0:00:01\r\u001b[K     |██▍                             | 30kB 11.6MB/s eta 0:00:01\r\u001b[K     |███▏                            | 40kB 8.2MB/s eta 0:00:01\r\u001b[K     |████                            | 51kB 7.1MB/s eta 0:00:01\r\u001b[K     |████▊                           | 61kB 7.1MB/s eta 0:00:01\r\u001b[K     |█████▌                          | 71kB 7.6MB/s eta 0:00:01\r\u001b[K     |██████▎                         | 81kB 7.8MB/s eta 0:00:01\r\u001b[K     |███████                         | 92kB 7.1MB/s eta 0:00:01\r\u001b[K     |███████▉                        | 102kB 6.9MB/s eta 0:00:01\r\u001b[K     |████████▋                       | 112kB 6.9MB/s eta 0:00:01\r\u001b[K     |█████████▍                      | 122kB 6.9MB/s eta 0:00:01\r\u001b[K     |██████████▏                     | 133kB 6.9MB/s eta 0:00:01\r\u001b[K     |███████████                     | 143kB 6.9MB/s eta 0:00:01\r\u001b[K     |███████████▉                    | 153kB 6.9MB/s eta 0:00:01\r\u001b[K     |████████████▋                   | 163kB 6.9MB/s eta 0:00:01\r\u001b[K     |█████████████▍                  | 174kB 6.9MB/s eta 0:00:01\r\u001b[K     |██████████████▏                 | 184kB 6.9MB/s eta 0:00:01\r\u001b[K     |███████████████                 | 194kB 6.9MB/s eta 0:00:01\r\u001b[K     |███████████████▊                | 204kB 6.9MB/s eta 0:00:01\r\u001b[K     |████████████████▌               | 215kB 6.9MB/s eta 0:00:01\r\u001b[K     |█████████████████▎              | 225kB 6.9MB/s eta 0:00:01\r\u001b[K     |██████████████████              | 235kB 6.9MB/s eta 0:00:01\r\u001b[K     |██████████████████▉             | 245kB 6.9MB/s eta 0:00:01\r\u001b[K     |███████████████████▋            | 256kB 6.9MB/s eta 0:00:01\r\u001b[K     |████████████████████▍           | 266kB 6.9MB/s eta 0:00:01\r\u001b[K     |█████████████████████▎          | 276kB 6.9MB/s eta 0:00:01\r\u001b[K     |██████████████████████          | 286kB 6.9MB/s eta 0:00:01\r\u001b[K     |██████████████████████▉         | 296kB 6.9MB/s eta 0:00:01\r\u001b[K     |███████████████████████▋        | 307kB 6.9MB/s eta 0:00:01\r\u001b[K     |████████████████████████▍       | 317kB 6.9MB/s eta 0:00:01\r\u001b[K     |█████████████████████████▏      | 327kB 6.9MB/s eta 0:00:01\r\u001b[K     |██████████████████████████      | 337kB 6.9MB/s eta 0:00:01\r\u001b[K     |██████████████████████████▊     | 348kB 6.9MB/s eta 0:00:01\r\u001b[K     |███████████████████████████▌    | 358kB 6.9MB/s eta 0:00:01\r\u001b[K     |████████████████████████████▎   | 368kB 6.9MB/s eta 0:00:01\r\u001b[K     |█████████████████████████████   | 378kB 6.9MB/s eta 0:00:01\r\u001b[K     |█████████████████████████████▉  | 389kB 6.9MB/s eta 0:00:01\r\u001b[K     |██████████████████████████████▋ | 399kB 6.9MB/s eta 0:00:01\r\u001b[K     |███████████████████████████████▌| 409kB 6.9MB/s eta 0:00:01\r\u001b[K     |████████████████████████████████| 419kB 6.9MB/s \n",
            "\u001b[?25hRequirement already satisfied: scikit-learn>=0.20.0 in /usr/local/lib/python3.7/dist-packages (from soynlp) (0.22.2.post1)\n",
            "Requirement already satisfied: psutil>=5.0.1 in /usr/local/lib/python3.7/dist-packages (from soynlp) (5.4.8)\n",
            "Requirement already satisfied: scipy>=1.1.0 in /usr/local/lib/python3.7/dist-packages (from soynlp) (1.4.1)\n",
            "Requirement already satisfied: numpy>=1.12.1 in /usr/local/lib/python3.7/dist-packages (from soynlp) (1.19.5)\n",
            "Requirement already satisfied: joblib>=0.11 in /usr/local/lib/python3.7/dist-packages (from scikit-learn>=0.20.0->soynlp) (1.0.1)\n",
            "Installing collected packages: soynlp\n",
            "Successfully installed soynlp-0.0.493\n"
          ],
          "name": "stdout"
        }
      ]
    },
    {
      "cell_type": "code",
      "metadata": {
        "colab": {
          "base_uri": "https://localhost:8080/"
        },
        "id": "T7RhqFgKVqip",
        "outputId": "a523d9c9-3af9-4ef9-9e33-acd295ef7a3f"
      },
      "source": [
        "!wget https://raw.githubusercontent.com/lovit/soynlp/master/tutorials/2016-10-20.txt -O 2016-10-20.txt"
      ],
      "execution_count": 2,
      "outputs": [
        {
          "output_type": "stream",
          "text": [
            "--2021-04-02 02:08:56--  https://raw.githubusercontent.com/lovit/soynlp/master/tutorials/2016-10-20.txt\n",
            "Resolving raw.githubusercontent.com (raw.githubusercontent.com)... 185.199.108.133, 185.199.111.133, 185.199.109.133, ...\n",
            "Connecting to raw.githubusercontent.com (raw.githubusercontent.com)|185.199.108.133|:443... connected.\n",
            "HTTP request sent, awaiting response... 200 OK\n",
            "Length: 43694449 (42M) [text/plain]\n",
            "Saving to: ‘2016-10-20.txt’\n",
            "\n",
            "2016-10-20.txt      100%[===================>]  41.67M  87.4MB/s    in 0.5s    \n",
            "\n",
            "2021-04-02 02:08:57 (87.4 MB/s) - ‘2016-10-20.txt’ saved [43694449/43694449]\n",
            "\n"
          ],
          "name": "stdout"
        }
      ]
    },
    {
      "cell_type": "code",
      "metadata": {
        "colab": {
          "base_uri": "https://localhost:8080/"
        },
        "id": "QiZNCV7BVy4J",
        "outputId": "cd6eb70c-51d0-4444-dd15-56966f04a14d"
      },
      "source": [
        "from soynlp import DoublespaceLineCorpus\n",
        "\n",
        "# 문서 단위 말뭉치 생성 \n",
        "corpus = DoublespaceLineCorpus(\"2016-10-20.txt\")\n",
        "len(corpus)  # 문서의 갯수"
      ],
      "execution_count": 3,
      "outputs": [
        {
          "output_type": "execute_result",
          "data": {
            "text/plain": [
              "30091"
            ]
          },
          "metadata": {
            "tags": []
          },
          "execution_count": 3
        }
      ]
    },
    {
      "cell_type": "code",
      "metadata": {
        "id": "bqNhsCmKWBhv"
      },
      "source": [
        ""
      ],
      "execution_count": null,
      "outputs": []
    }
  ]
}