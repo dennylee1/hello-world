{
  "nbformat": 4,
  "nbformat_minor": 0,
  "metadata": {
    "colab": {
      "name": "Untitled1.ipynb",
      "provenance": [],
      "authorship_tag": "ABX9TyPmvgUpaSPqBVjzZbpYiRkP",
      "include_colab_link": true
    },
    "kernelspec": {
      "name": "python3",
      "display_name": "Python 3"
    },
    "language_info": {
      "name": "python"
    }
  },
  "cells": [
    {
      "cell_type": "markdown",
      "metadata": {
        "id": "view-in-github",
        "colab_type": "text"
      },
      "source": [
        "<a href=\"https://colab.research.google.com/github/dennylee1/hello-world/blob/master/ml_test.ipynb\" target=\"_parent\"><img src=\"https://colab.research.google.com/assets/colab-badge.svg\" alt=\"Open In Colab\"/></a>"
      ]
    },
    {
      "cell_type": "code",
      "metadata": {
        "id": "AQsLmkiI4prE"
      },
      "source": [
        "from io import StringIO\n",
        "\n",
        "csv_data = StringIO(\"\"\"\n",
        "x1,x2,x3,x4,x5\n",
        "1,0.1,\"1\",2019-01-01,A\n",
        "2,,,2019-01-02,B\n",
        "3,,\"3\",2019-01-03,C\n",
        ",0.4,\"4\",2019-01-04,A\n",
        "5,0.5,\"5\",2019-01-05,B\n",
        ",,,2019-01-06,C\n",
        "7,0.7,\"7\",,A\n",
        "8,0.8,\"8\",2019-01-08,B\n",
        "9,0.9,,2019-01-09,C\n",
        "\"\"\")\n",
        "\n",
        "df = pd.read_csv(csv_data, dtype={\"x1\": pd.Int64Dtype()}, parse_dates=[3])\n",
        "df"
      ],
      "execution_count": null,
      "outputs": []
    }
  ]
}